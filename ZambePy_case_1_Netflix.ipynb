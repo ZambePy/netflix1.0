

library(tidyverse)
library(lubridate)

netflix <- read_csv("netflix_titles.csv")


netflix_limpo <- netflix %>%
  filter(!is.na(date_added)) %>%
  mutate(
    date_added = mdy(date_added),
    year_added = year(date_added)
  )

por_tipo_ano <- netflix_limpo %>%
  group_by(year_added, type) %>%
  summarise(qtd = n(), .groups = "drop")


ggplot(por_tipo_ano, aes(x = year_added, y = qtd, color = type)) +
  geom_line(size = 1.2) +
  labs(
    title = "Lançamentos na Netflix por Ano",
    x = "Ano de Adição",
    y = "Quantidade",
    color = "Tipo"
  ) +
  theme_minimal() 
